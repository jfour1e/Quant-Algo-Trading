{
 "cells": [
  {
   "cell_type": "code",
   "execution_count": null,
   "metadata": {},
   "outputs": [],
   "source": [
    "import ibapi \n",
    "from ibapi.client import EClient \n",
    "from ibapi.wrapper import EWrapper\n",
    "\n",
    "class IBApi(EWrapper, EClient):\n",
    "\n",
    "    def __init__(self):\n",
    "        EClient.__init__(self, self)\n",
    "\n",
    "    \n",
    "class Bot:\n",
    "    ib = None\n",
    "    def __init__(self):\n",
    "        ib = IBApi()\n",
    "        ib.connect(\"127.0.01\",) #socket key goes here \n"
   ]
  }
 ],
 "metadata": {
  "kernelspec": {
   "display_name": "Python 3.11.5 ('base')",
   "language": "python",
   "name": "python3"
  },
  "language_info": {
   "name": "python",
   "version": "3.11.5"
  },
  "orig_nbformat": 4,
  "vscode": {
   "interpreter": {
    "hash": "4c984aae39f9b63f29ed0fb7cd34d780f5f68de00193e63aeb21699a2279943c"
   }
  }
 },
 "nbformat": 4,
 "nbformat_minor": 2
}
