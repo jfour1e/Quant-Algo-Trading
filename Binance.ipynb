{
 "cells": [
  {
   "cell_type": "code",
   "execution_count": null,
   "metadata": {},
   "outputs": [],
   "source": [
    "import pandas as pd\n",
    "from sqlalchemy import create_engine\n",
    "from binance.client import Client \n",
    "from binance import BinanceSocketManager\n",
    "\n",
    "client = Client()\n",
    "\n",
    "bsm = BinanceSocketManager(client)"
   ]
  },
  {
   "cell_type": "code",
   "execution_count": null,
   "metadata": {},
   "outputs": [],
   "source": [
    "socket = bsm.kline_socket('BTCUSDT')\n",
    "await socket.__aenter__()\n",
    "msg = await socket.recv()\n",
    "print(msg)\n",
    "await socket.__aexit__(None, None, None)\n"
   ]
  },
  {
   "cell_type": "code",
   "execution_count": null,
   "metadata": {},
   "outputs": [],
   "source": [
    "# def data(msg):\n",
    "    "
   ]
  },
  {
   "cell_type": "code",
   "execution_count": 1,
   "metadata": {},
   "outputs": [
    {
     "data": {
      "text/plain": [
       "'{\"code\":-2015,\"msg\":\"Invalid API-key, IP, or permissions for action.\"}'"
      ]
     },
     "execution_count": 1,
     "metadata": {},
     "output_type": "execute_result"
    }
   ],
   "source": [
    "import urllib.parse\n",
    "import hashlib\n",
    "import hmac\n",
    "import base64\n",
    "import requests\n",
    "import calendar\n",
    "import time\n",
    "\n",
    "api_url = \"https://api.binance.us\"\n",
    "\n",
    "# get binanceus signature\n",
    "def get_binanceus_signature(data, secret):\n",
    "    postdata = urllib.parse.urlencode(data)\n",
    "    message = postdata.encode()\n",
    "    byte_key = bytes(secret, 'UTF-8')\n",
    "    mac = hmac.new(byte_key, message, hashlib.sha256).hexdigest()\n",
    "    return mac\n",
    "\n",
    "# Attaches auth headers and returns results of a POST request\n",
    "def binanceus_request(uri_path, data, api_key, api_sec):\n",
    "    headers = {}\n",
    "    headers['X-MBX-APIKEY'] = api_key\n",
    "    signature = get_binanceus_signature(data, api_sec)\n",
    "    payload={\n",
    "        **data,\n",
    "        \"signature\": signature,\n",
    "        }\n",
    "    req = requests.post((api_url + uri_path), headers=headers, data=payload)\n",
    "    return req.text\n",
    "\n",
    "api_key = \"8kiEWmk5NCQGBLyBuSxk7ERe5TW4wygwogPHxMd5zjsqDWpUGejUQWOLGN9VcuMd\"\n",
    "\n",
    "secret_key = \"NS7HDgglKoLTC3WcMBpcmbyzW3mWihTiTzSSOdlN5Sv2TbJYjDi11l8sYIRHUBzE\"\n",
    "\n",
    "uri_path = \"/api/v3/order\"\n",
    "data = {\n",
    "    \"symbol\": \"BTCUSDT\",\n",
    "    \"side\": \"BUY\",\n",
    "    \"type\": \"LIMIT\",\n",
    "    \"timeInForce\": \"GTC\",\n",
    "    \"quantity\": 1,\n",
    "    \"price\": 0.1,\n",
    "    \"timestamp\": int(round(time.time() * 1000))\n",
    "}\n",
    "\n",
    "binanceus_request(uri_path, data, api_key, secret_key)"
   ]
  }
 ],
 "metadata": {
  "kernelspec": {
   "display_name": "Python 3.11.5 ('base')",
   "language": "python",
   "name": "python3"
  },
  "language_info": {
   "codemirror_mode": {
    "name": "ipython",
    "version": 3
   },
   "file_extension": ".py",
   "mimetype": "text/x-python",
   "name": "python",
   "nbconvert_exporter": "python",
   "pygments_lexer": "ipython3",
   "version": "3.11.5"
  },
  "orig_nbformat": 4,
  "vscode": {
   "interpreter": {
    "hash": "4c984aae39f9b63f29ed0fb7cd34d780f5f68de00193e63aeb21699a2279943c"
   }
  }
 },
 "nbformat": 4,
 "nbformat_minor": 2
}
