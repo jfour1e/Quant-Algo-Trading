{
 "cells": [
  {
   "cell_type": "code",
   "execution_count": 1,
   "metadata": {},
   "outputs": [
    {
     "name": "stderr",
     "output_type": "stream",
     "text": [
      "[*********************100%%**********************]  1 of 1 completed\n"
     ]
    }
   ],
   "source": [
    "import yfinance as yf\n",
    "import pandas as pd\n",
    "from datetime import datetime, timedelta\n",
    "from data import *\n",
    "from window import *\n",
    "import matplotlib.pyplot as plt\n",
    "import numpy as np\n",
    "\n",
    "ticker = 'SPY'\n",
    "start_date = (datetime.today() - timedelta(days=59)).strftime('%Y-%m-%d')\n",
    "end_date = datetime.today().strftime('%Y-%m-%d')\n",
    "\n",
    "data = fetch_data(ticker, start_date, end_date)"
   ]
  },
  {
   "cell_type": "code",
   "execution_count": null,
   "metadata": {},
   "outputs": [],
   "source": [
    "def backtest_strategy_short_only(data):\n",
    "    \"\"\" Simulate trading based on provided sell and buy signals, including tracking entry and exit prices. \"\"\"\n",
    "    capital = 10000\n",
    "    short_shares = 0\n",
    "    portfolio = pd.DataFrame(index=data.index, columns=['Portfolio Value', 'Entry Price', 'Exit Price', 'Position Type'])\n",
    "    entry_price = None\n",
    "    exit_price = None\n",
    "    prev_signal = None \n",
    "    short_position = False\n",
    "\n",
    "    for row_index in range(0, len(data)): \n",
    "        signal = generate_signals(data, row_index)\n",
    "        current_price = data.iloc[row_index]['Close']\n",
    "    \n",
    "        if (signal == 'Sell' and not short_position) and (prev_signal != 'Sell' and capital > 0):\n",
    "            shares_to_short = capital / current_price\n",
    "            short_shares += shares_to_short\n",
    "            capital += short_shares * current_price\n",
    "            entry_price = current_price\n",
    "\n",
    "            exit_price = None\n",
    "            short_position = True \n",
    "            portfolio.loc[data.index[row_index], 'Position Type'] = 'Short'\n",
    "\n",
    "        if (prev_signal == 'Sell' and entry_price is not None and current_price >= entry_price * 1.1) or (signal == 'Buy' and prev_signal != 'Buy' and short_shares > 0):\n",
    "            capital -= short_shares * current_price\n",
    "            short_shares = 0\n",
    "            exit_price = current_price\n",
    "            entry_price = None\n",
    "            short_position = False\n",
    "            portfolio.loc[data.index[row_index], 'Position Type'] = 'None'\n",
    "\n",
    "        portfolio_value = capital - (short_shares * current_price)\n",
    "        portfolio.loc[data.index[row_index], 'Entry Price'] = entry_price\n",
    "        portfolio.loc[data.index[row_index], 'Portfolio Value'] = portfolio_value\n",
    "        portfolio.loc[data.index[row_index], 'Exit Price'] = exit_price\n",
    "        \n",
    "        prev_signal = signal\n",
    "\n",
    "    return portfolio.fillna(0)\n",
    "\n",
    "def calculate_performance(portfolio):\n",
    "    \"\"\" Calculate the percent change in portfolio value from the first day to the last. \"\"\"\n",
    "    first_day_value = portfolio.iloc[0]['Portfolio Value']\n",
    "    last_day_value = portfolio.iloc[-1]['Portfolio Value']\n",
    "    percent_change = ((last_day_value - first_day_value) / first_day_value) * 100\n",
    "    return percent_change\n",
    "\n",
    "\n",
    "# Comparison of all three strategies\n",
    "tickers = ['SPY', 'NDAQ', 'JPM', 'C', 'BAC', 'PANW', 'SHOP', 'NET', 'TSM', 'CRM', 'ON', 'SONY', 'CRWD', 'AMAT', 'AMZN', 'AAPL', 'USDJPY=X']\n",
    "\n",
    "\n",
    "for ticker in tickers: \n",
    "    data = fetch_data(ticker, start_date, end_date)\n",
    "    portfolio = backtest_strategy_short_only(data)\n",
    "    performance = calculate_performance(portfolio)\n",
    "    print(f\"Performance of {ticker} is {performance:.2f}%\")\n",
    "\n",
    "# Display results\n",
    "print(portfolio)"
   ]
  },
  {
   "cell_type": "code",
   "execution_count": null,
   "metadata": {},
   "outputs": [],
   "source": [
    "import matplotlib.pyplot as plt\n",
    "from datetime import datetime, timedelta\n",
    "\n",
    "ticker = 'FIL-USD'\n",
    "start_date = (datetime.today() - timedelta(days=59)).strftime('%Y-%m-%d')\n",
    "end_date = datetime.today().strftime('%Y-%m-%d')\n",
    "\n",
    "data = fetch_data(ticker, start_date, end_date)\n",
    "\n",
    "# Normalizing the stock data\n",
    "stock_data = data['Close'] * 20\n",
    "initial_stock_value = stock_data.iloc[0]\n",
    "normalized_stock_data = (stock_data / initial_stock_value) * 10000\n",
    "\n",
    "# Backtest the strategy\n",
    "portfolio = backtest_strategy_short_only(data)\n",
    "\n",
    "# Normalizing the portfolio data\n",
    "initial_portfolio_value = portfolio['Portfolio Value'].iloc[0]\n",
    "normalized_portfolio = (portfolio['Portfolio Value'] / initial_portfolio_value) * 10000\n",
    "\n",
    "performance = calculate_performance(portfolio)\n",
    "print(f\"Performance of {ticker} is {performance:.2f}%\")\n",
    "\n",
    "# Plotting the data\n",
    "plt.figure(figsize=(10, 6))\n",
    "plt.plot(portfolio.index, normalized_portfolio, label='Portfolio')\n",
    "plt.plot(stock_data.index, normalized_stock_data, label=f'{ticker} Price')\n",
    "plt.title(f'Portfolio vs {ticker} Performance')\n",
    "plt.xlabel('Date')\n",
    "plt.ylabel('Value')\n",
    "plt.legend()\n",
    "plt.grid(True)\n",
    "plt.show()"
   ]
  }
 ],
 "metadata": {
  "kernelspec": {
   "display_name": "Python 3.11.5 ('base')",
   "language": "python",
   "name": "python3"
  },
  "language_info": {
   "codemirror_mode": {
    "name": "ipython",
    "version": 3
   },
   "file_extension": ".py",
   "mimetype": "text/x-python",
   "name": "python",
   "nbconvert_exporter": "python",
   "pygments_lexer": "ipython3",
   "version": "3.11.5"
  },
  "orig_nbformat": 4,
  "vscode": {
   "interpreter": {
    "hash": "4c984aae39f9b63f29ed0fb7cd34d780f5f68de00193e63aeb21699a2279943c"
   }
  }
 },
 "nbformat": 4,
 "nbformat_minor": 2
}
