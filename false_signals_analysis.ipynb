{
 "cells": [
  {
   "cell_type": "code",
   "execution_count": 1,
   "metadata": {},
   "outputs": [
    {
     "name": "stderr",
     "output_type": "stream",
     "text": [
      "[*********************100%%**********************]  1 of 1 completed\n"
     ]
    }
   ],
   "source": [
    "import yfinance as yf\n",
    "import pandas as pd\n",
    "from datetime import datetime, timedelta\n",
    "from data import *\n",
    "from window import *\n",
    "import matplotlib.pyplot as plt\n",
    "import numpy as np\n",
    "from sklearn.preprocessing import StandardScaler\n",
    "\n",
    "start_date = (datetime.today() - timedelta(days=59)).strftime('%Y-%m-%d')\n",
    "end_date = datetime.today().strftime('%Y-%m-%d')\n",
    "\n",
    "ticker = 'SPY'\n",
    "data = fetch_data(ticker, start_date, end_date)\n",
    "\n",
    "\n",
    "def fetch_data(symbol, start_date, end_date):\n",
    "    try:\n",
    "        # Fetch historical data from Yahoo Finance\n",
    "        stock_data = yf.download(symbol, start=start_date, end=end_date, interval='15m')\n",
    "        stock_data.drop(columns=['Adj Close', 'Volume'], inplace=True)\n",
    "        return stock_data\n",
    "    except Exception as e:\n",
    "        print(f\"Error fetching data: {e}\")\n",
    "        return None\n",
    "    \n",
    "\n",
    "def information(prob):\n",
    "     return -np.log(prob)\n",
    "\n",
    "\n",
    "def calculate_frequency(data):\n",
    "    # Calculate returns and bin them\n",
    "    data['return'] = data['Close'].pct_change(periods=1)\n",
    "    data['return_bin'] = pd.cut(data['return'], 10)\n",
    "    \n",
    "    # Calculate frequency of each bin\n",
    "    freq = data['return_bin'].value_counts(normalize=True).reset_index()\n",
    "    freq.columns = ['return_bin', 'count']\n",
    "    \n",
    "    # Initialize scaler\n",
    "    scaler = StandardScaler()\n",
    "    \n",
    "    # Compute 'info' values and scale them\n",
    "    info = information(freq['count']).values.reshape(-1,1)  # Convert Series to NumPy array\n",
    "    freq['info'] = scaler.fit_transform(info)\n",
    "    \n",
    "    return freq\n",
    "\n",
    "\n",
    "def get_information(price_change, freq):\n",
    "    # Iterate over each row in the frequency DataFrame\n",
    "    for index, row in freq.iterrows():\n",
    "        # Check if the price change falls within the bin interval\n",
    "        if row['return_bin'].left <= price_change < row['return_bin'].right:\n",
    "            return row['info']\n",
    "    \n",
    "    # If no match is found, return None or handle the case accordingly\n",
    "    return None"
   ]
  },
  {
   "cell_type": "code",
   "execution_count": 3,
   "metadata": {},
   "outputs": [
    {
     "name": "stdout",
     "output_type": "stream",
     "text": [
      "Information value associated with the price change: None\n"
     ]
    }
   ],
   "source": [
    "freq = calculate_frequency(data)\n",
    "price_change = 0.05  # Example of the most recent price change\n",
    "information_value = get_information(price_change, freq)\n",
    "\n",
    "print(\"Information value associated with the price change:\", information_value)"
   ]
  }
 ],
 "metadata": {
  "kernelspec": {
   "display_name": "Python 3.11.5 ('base')",
   "language": "python",
   "name": "python3"
  },
  "language_info": {
   "codemirror_mode": {
    "name": "ipython",
    "version": 3
   },
   "file_extension": ".py",
   "mimetype": "text/x-python",
   "name": "python",
   "nbconvert_exporter": "python",
   "pygments_lexer": "ipython3",
   "version": "3.11.5"
  },
  "orig_nbformat": 4,
  "vscode": {
   "interpreter": {
    "hash": "4c984aae39f9b63f29ed0fb7cd34d780f5f68de00193e63aeb21699a2279943c"
   }
  }
 },
 "nbformat": 4,
 "nbformat_minor": 2
}
