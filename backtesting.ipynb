{
 "cells": [
  {
   "cell_type": "code",
   "execution_count": 66,
   "metadata": {},
   "outputs": [
    {
     "name": "stdout",
     "output_type": "stream",
     "text": [
      "[*********************100%%**********************]  1 of 1 completed\n",
      "Index(['Open', 'High', 'Low', 'Close', 'RSI', 'MACD', 'MACD Signal', 'EMA_5',\n",
      "       'EMA_8', 'EMA_13'],\n",
      "      dtype='object')\n"
     ]
    }
   ],
   "source": [
    "import yfinance as yf\n",
    "import pandas as pd\n",
    "from datetime import datetime, timedelta\n",
    "from data import *\n",
    "from window import *\n",
    "import matplotlib.pyplot as plt\n",
    "import numpy as np\n",
    "\n",
    "ticker = 'SPY'\n",
    "start_date = (datetime.today() - timedelta(days=59)).strftime('%Y-%m-%d')\n",
    "end_date = datetime.today().strftime('%Y-%m-%d')\n",
    "\n",
    "data = fetch_data(ticker, start_date, end_date)\n",
    "\n",
    "print(data.columns)"
   ]
  },
  {
   "cell_type": "code",
   "execution_count": 55,
   "metadata": {},
   "outputs": [],
   "source": [
    "def generate_ema_signals(data, row):\n",
    "\n",
    "    last_row = data.iloc[row]\n",
    "\n",
    "    ema_5_current = pd.Series(last_row['EMA_5'])\n",
    "    ema_8_current = pd.Series(last_row['EMA_8'])\n",
    "    ema_13_current = pd.Series(last_row['EMA_13'])\n",
    "\n",
    "    # Get the previous row\n",
    "    prev_row = data.iloc[row-1]\n",
    "\n",
    "    ema_5_prev = pd.Series(prev_row['EMA_5'])\n",
    "    ema_8_prev = pd.Series(prev_row['EMA_8'])\n",
    "    ema_13_prev = pd.Series(prev_row['EMA_13'])\n",
    "\n",
    "    buy_conditions_met = ((ema_5_current > ema_8_current)) #& (ema_8_current > ema_13_current))\n",
    "\n",
    "    sell_conditions_met = ((ema_5_current < ema_8_current)) #& (ema_8_current < ema_13_current))\n",
    "    \n",
    "    if (buy_conditions_met.all() == True): \n",
    "         return 'Buy'\n",
    "\n",
    "    elif(sell_conditions_met.all()):\n",
    "        return 'Sell'\n",
    "    else: \n",
    "        return ' '\n",
    "\n",
    "\n",
    "def generate_macd_signals(data, row):\n",
    "    # MACD-based signals\n",
    "\n",
    "    if data.iloc[row]['MACD'] > data.iloc[row]['MACD Signal'] and data.iloc[row-1]['MACD'] < data.iloc[row-1]['MACD Signal']:\n",
    "        return 'Buy'\n",
    "    \n",
    "    elif data.iloc[row]['MACD'] < data.iloc[row]['MACD Signal'] and data.iloc[row-1]['MACD'] > data.iloc[row-1]['MACD Signal']:\n",
    "        return 'Sell'\n",
    "    \n",
    "    else:\n",
    "        return ''  # No signal\n",
    "\n",
    "\n",
    "def generate_rsi_signals(data, row):\n",
    "    \n",
    "    # RSI-based signals\n",
    "    if data.iloc[row]['RSI'] < 50:\n",
    "        return 'Buy'\n",
    "    \n",
    "    elif data.iloc[row]['RSI'] > 50:\n",
    "        return 'Sell'\n",
    "    \n",
    "    else:\n",
    "        return '' \n",
    "\n",
    "def generate_signals(data, row): \n",
    "    #fibonacci_levels = calculate_fibonacci_levels(data, row)\n",
    "    #find_positions_fibonacci(row, fibonacci_levels)\n",
    "\n",
    "    ema_signal = generate_ema_signals(data, row)\n",
    "    most_recent_macd_signal = None\n",
    "    rsi_signal = generate_rsi_signals(data, row)\n",
    "\n",
    "    #print(find_positions_fibonacci(data, row, fibonacci_levels))\n",
    "\n",
    "    for i in range(row, -1, -1):\n",
    "        macd_signal = generate_macd_signals(data, i)\n",
    "        if macd_signal != '':\n",
    "            most_recent_macd_signal = macd_signal\n",
    "            break\n",
    "    \n",
    "    buy_conditions = ((ema_signal == 'Buy') & ((most_recent_macd_signal == 'Buy') & (rsi_signal == 'Buy')))\n",
    "    \n",
    "    sell_conditions = ((ema_signal == 'Sell') & (((most_recent_macd_signal == 'Sell') & (rsi_signal == 'Sell')))) \n",
    "\n",
    "    if buy_conditions == True: \n",
    "\n",
    "        return 'Buy'#, entry_level, stop_loss, target_profit\n",
    "\n",
    "    elif sell_conditions == True:\n",
    "        return 'Sell'\n",
    "    else: \n",
    "        return ' '\n"
   ]
  },
  {
   "cell_type": "code",
   "execution_count": 60,
   "metadata": {},
   "outputs": [
    {
     "name": "stdout",
     "output_type": "stream",
     "text": [
      "[*********************100%%**********************]  1 of 1 completed\n",
      "                     Portfolio Value  Entry Price  Exit Price\n",
      "Datetime                                                     \n",
      "2024-03-01 09:30:00     10000.000000   509.070007         0.0\n",
      "2024-03-01 09:45:00     10000.196029     0.000000         0.0\n",
      "2024-03-01 10:00:00     10015.516264     0.000000         0.0\n",
      "2024-03-01 10:15:00     10025.536523     0.000000         0.0\n",
      "2024-03-01 10:30:00     10022.590093     0.000000         0.0\n",
      "...                              ...          ...         ...\n",
      "2024-04-26 14:45:00     10290.585808     0.000000         0.0\n",
      "2024-04-26 15:00:00     10290.585808     0.000000         0.0\n",
      "2024-04-26 15:15:00     10290.585808     0.000000         0.0\n",
      "2024-04-26 15:30:00     10290.585808     0.000000         0.0\n",
      "2024-04-26 15:45:00     10290.585808     0.000000         0.0\n",
      "\n",
      "[1040 rows x 3 columns]\n"
     ]
    }
   ],
   "source": [
    "def backtest_strategy(data):\n",
    "    \"\"\" Simulate trading based on provided buy and sell signals, including tracking entry and exit prices. \"\"\"\n",
    "    capital = 10000\n",
    "    shares = 0\n",
    "    #create portforlio dataframe \n",
    "    portfolio = pd.DataFrame(index=data.index, columns=['Portfolio Value', 'Entry Price', 'Exit Price'])\n",
    "    entry_price = None\n",
    "    exit_price = None\n",
    "    prev_signal = None \n",
    "\n",
    "    for row_index in range(0, len(data)): \n",
    "        signal = generate_signals(data, row_index)\n",
    "    \n",
    "        if signal == 'Buy' and prev_signal != 'Buy' and capital > 0:  # Check if signal is 'Buy' and different from previous\n",
    "            shares_to_buy = capital / data.iloc[row_index]['Close']\n",
    "            shares += shares_to_buy\n",
    "            capital -= shares_to_buy * data.iloc[row_index]['Close']\n",
    "            entry_price = data.iloc[row_index]['Close']\n",
    "            portfolio.loc[data.index[row_index], 'Entry Price'] = entry_price\n",
    "            # Reset exit price when entering a new position\n",
    "            exit_price = None\n",
    "\n",
    "        if signal == 'Sell' and prev_signal != 'Sell' and shares > 0:  # Check if signal is 'Sell' and different from previous\n",
    "            capital += shares * data.iloc[row_index]['Close']\n",
    "            shares = 0\n",
    "            exit_price = data.iloc[row_index]['Close']\n",
    "            portfolio.loc[data.index[row_index], 'Exit Price'] = exit_price\n",
    "            # Reset entry price when exiting the position\n",
    "            entry_price = None\n",
    "\n",
    "        # Calculate portfolio value\n",
    "        portfolio_value = capital + (shares * data.iloc[row_index]['Close'])\n",
    "        portfolio.loc[data.index[row_index], 'Portfolio Value'] = portfolio_value\n",
    "        \n",
    "        prev_signal = signal  # Update previous signal for next iteration\n",
    "\n",
    "    return portfolio.fillna(0)\n",
    "\n",
    "# Running the backtest\n",
    "data = fetch_data(ticker, start_date, end_date)\n",
    "\n",
    "# Assuming generate_buy_signals and generate_sell_signals functions are defined\n",
    "# and return lists of timestamps where signals occur\n",
    "\n",
    "portfolio = backtest_strategy(data)\n",
    "\n",
    "# Display results\n",
    "print(portfolio)"
   ]
  },
  {
   "cell_type": "code",
   "execution_count": 67,
   "metadata": {},
   "outputs": [
    {
     "data": {
      "image/png": "[encoded data removed]",
      "text/plain": [
       "<Figure size 1000x600 with 1 Axes>"
      ]
     },
     "metadata": {},
     "output_type": "display_data"
    }
   ],
   "source": [
    "sp500_data = data['Close']*19.643\n",
    "\n",
    "plt.figure(figsize=(10, 6))\n",
    "plt.plot(portfolio.index, portfolio['Portfolio Value'], label='Portfolio')\n",
    "plt.plot(sp500_data.index, sp500_data, label='S&P 500')\n",
    "plt.title('Portfolio vs S&P 500 Performance')\n",
    "plt.xlabel('Date')\n",
    "plt.ylabel('Value')\n",
    "plt.legend()\n",
    "plt.grid(True)\n",
    "plt.show()"
   ]
  }
 ],
 "metadata": {
  "kernelspec": {
   "display_name": "Python 3.10.2 64-bit",
   "language": "python",
   "name": "python3"
  },
  "language_info": {
   "codemirror_mode": {
    "name": "ipython",
    "version": 3
   },
   "file_extension": ".py",
   "mimetype": "text/x-python",
   "name": "python",
   "nbconvert_exporter": "python",
   "pygments_lexer": "ipython3",
   "version": "3.10.2"
  },
  "orig_nbformat": 4,
  "vscode": {
   "interpreter": {
    "hash": "aee8b7b246df8f9039afb4144a1f6fd8d2ca17a180786b69acc140d282b71a49"
   }
  }
 },
 "nbformat": 4,
 "nbformat_minor": 2
}
