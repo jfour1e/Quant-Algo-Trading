{
 "cells": [
  {
   "cell_type": "code",
   "execution_count": null,
   "metadata": {},
   "outputs": [
    {
     "name": "stdout",
     "output_type": "stream",
     "text": [
      "[*********************100%%**********************]  1 of 1 completed\n",
      "                 Close        RSI\n",
      "Date                             \n",
      "2004-03-01    0.428929        NaN\n",
      "2004-03-02    0.425179        NaN\n",
      "2004-03-03    0.427143        NaN\n",
      "2004-03-04    0.449286        NaN\n",
      "2004-03-05    0.477500        NaN\n",
      "...                ...        ...\n",
      "2024-02-22  184.369995  42.550837\n",
      "2024-02-23  182.520004  40.416768\n",
      "2024-02-26  181.160004  30.541082\n",
      "2024-02-27  182.630005  30.139032\n",
      "2024-02-28  181.419998  27.621140\n",
      "\n",
      "[5034 rows x 2 columns]\n"
     ]
    }
   ],
   "source": [
    "import yfinance as yf\n",
    "import pandas as pd\n",
    "import numpy as np\n",
    "\n",
    "tickers = ['PANW', 'SHOP', 'META', 'TSM', 'NET', 'DELL', 'ON', 'CRM', 'SONY', 'CRWD', 'AMAT']\n",
    "\n",
    "def get_data(stock):\n",
    "    #get historical stock data \n",
    "    YEARS = 20\n",
    "    #try catch for years in case of error \n",
    "    start = (pd.Timestamp.now() - pd.DateOffset(years=YEARS)).strftime('%Y-%m-%d')\n",
    "    END = pd.Timestamp.now().strftime('%Y-%m-%d')\n",
    "    stock_data = yf.download(stock, start=start, end=END)\n",
    "    \n",
    "    # Calculate daily returns\n",
    "    stock_data['Daily Return'] = stock_data['Close'].pct_change()\n",
    "    \n",
    "    # Separate gains and losses\n",
    "    stock_data['Gain'] = stock_data['Daily Return'].apply(lambda x: x if x > 0 else 0)\n",
    "    stock_data['Loss'] = stock_data['Daily Return'].apply(lambda x: -x if x < 0 else 0)\n",
    "    \n",
    "    # Calculate average gain and loss\n",
    "    window = 14\n",
    "    stock_data['Avg Gain'] = stock_data['Gain'].rolling(window=window).mean()\n",
    "    stock_data['Avg Loss'] = stock_data['Loss'].rolling(window=window).mean()\n",
    "    \n",
    "    # Calculate RS and RSI\n",
    "    stock_data['RS'] = stock_data['Avg Gain'] / stock_data['Avg Loss']\n",
    "    stock_data['RSI'] = 100 - (100 / (1 + stock_data['RS']))\n",
    "    # Define the ticker symbol, start date, and end date\n",
    "    ticker_symbol = 'AAPL'  # Example: Apple Inc.\n",
    "    start_date = '2023-01-01'\n",
    "    end_date = '2023-12-31'\n",
    "\n",
    "# Fetch historical data from Yahoo Finance\n",
    "    data = yf.download(ticker_symbol, start=start_date, end=end_date)\n",
    "\n",
    "# Calculate the 26-day moving average of the closing prices\n",
    "    data['26_Day_MA'] = data['Close'].rolling(window=26).mean()\n",
    "\n",
    "# Display the data with the moving average\n",
    "    print(data[['Close', '26_Day_MA']])\n",
    "\n",
    "    # Return the final DataFrame\n",
    "    return stock_data[['Close', 'RSI']]\n",
    "\n",
    "print(get_data('AAPL'))\n",
    "\n"
   ]
  }
 ],
 "metadata": {
  "kernelspec": {
   "display_name": "Python 3.10.2 64-bit",
   "language": "python",
   "name": "python3"
  },
  "language_info": {
   "codemirror_mode": {
    "name": "ipython",
    "version": 3
   },
   "file_extension": ".py",
   "mimetype": "text/x-python",
   "name": "python",
   "nbconvert_exporter": "python",
   "pygments_lexer": "ipython3",
   "version": "3.10.2"
  },
  "orig_nbformat": 4,
  "vscode": {
   "interpreter": {
    "hash": "aee8b7b246df8f9039afb4144a1f6fd8d2ca17a180786b69acc140d282b71a49"
   }
  }
 },
 "nbformat": 4,
 "nbformat_minor": 2
}
